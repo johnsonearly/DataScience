{
 "cells": [
  {
   "cell_type": "markdown",
   "id": "cef45f94",
   "metadata": {},
   "source": [
    "<h2>What is Numpy</h2>\n",
    "<span>\n",
    "NumPy is a popular Python library used for numerical computations. It provides support for large multi-dimensional arrays and matrices, along with a collection of mathematical functions to operate on these arrays efficiently.<span>"
   ]
  },
  {
   "cell_type": "code",
   "execution_count": 1,
   "id": "a0131048",
   "metadata": {},
   "outputs": [],
   "source": [
    "import numpy as np"
   ]
  },
  {
   "cell_type": "markdown",
   "id": "736da152",
   "metadata": {},
   "source": [
    "<h2>Basic Numpy Arrays</h2>"
   ]
  },
  {
   "cell_type": "code",
   "execution_count": 2,
   "id": "a8251006",
   "metadata": {},
   "outputs": [
    {
     "data": {
      "text/plain": [
       "array([1, 2, 3, 4, 5])"
      ]
     },
     "execution_count": 2,
     "metadata": {},
     "output_type": "execute_result"
    }
   ],
   "source": [
    "np.array([1,2,3,4,5])"
   ]
  },
  {
   "cell_type": "code",
   "execution_count": 7,
   "id": "331ba434",
   "metadata": {},
   "outputs": [],
   "source": [
    "array_a = np.array([5,6,7,8])\n",
    "array_b = np.array([10,11,12,13,14])\n",
    "array_c = np.array([3.3,4.4,3.56])"
   ]
  },
  {
   "cell_type": "code",
   "execution_count": 8,
   "id": "a7e22062",
   "metadata": {},
   "outputs": [
    {
     "name": "stdout",
     "output_type": "stream",
     "text": [
      "This is array a [5 6 7 8]\n",
      "This is array b [10 11 12 13 14]\n"
     ]
    }
   ],
   "source": [
    "#To disclose what array_a and array_b contains\n",
    "print(\"This is array a\",array_a)\n",
    "print(\"This is array b\",array_b)"
   ]
  },
  {
   "cell_type": "code",
   "execution_count": 10,
   "id": "dc6ee1b0",
   "metadata": {},
   "outputs": [
    {
     "data": {
      "text/plain": [
       "(dtype('float64'), dtype('int32'))"
      ]
     },
     "execution_count": 10,
     "metadata": {},
     "output_type": "execute_result"
    }
   ],
   "source": [
    "array_c.dtype, array_b.dtype"
   ]
  },
  {
   "cell_type": "code",
   "execution_count": 12,
   "id": "f4b6dec5",
   "metadata": {},
   "outputs": [
    {
     "data": {
      "text/plain": [
       "True"
      ]
     },
     "execution_count": 12,
     "metadata": {},
     "output_type": "execute_result"
    }
   ],
   "source": [
    "array_b.dtype == array_a.dtype"
   ]
  },
  {
   "cell_type": "markdown",
   "id": "110e8849",
   "metadata": {},
   "source": [
    "## Multi dimesional Arrays"
   ]
  },
  {
   "cell_type": "code",
   "execution_count": 18,
   "id": "8c224cc0",
   "metadata": {},
   "outputs": [
    {
     "data": {
      "text/plain": [
       "(2, 3)"
      ]
     },
     "execution_count": 18,
     "metadata": {},
     "output_type": "execute_result"
    }
   ],
   "source": [
    "array_new = np.array(([3,4,5],[6,7,8]))\n",
    "array_new.shape"
   ]
  },
  {
   "cell_type": "code",
   "execution_count": 19,
   "id": "06e777df",
   "metadata": {},
   "outputs": [
    {
     "data": {
      "text/plain": [
       "6"
      ]
     },
     "execution_count": 19,
     "metadata": {},
     "output_type": "execute_result"
    }
   ],
   "source": [
    "array_new.size"
   ]
  },
  {
   "cell_type": "code",
   "execution_count": 21,
   "id": "e35b8c0f",
   "metadata": {},
   "outputs": [
    {
     "data": {
      "text/plain": [
       "array([[1, 2, 3],\n",
       "       [3, 4, 5]])"
      ]
     },
     "execution_count": 21,
     "metadata": {},
     "output_type": "execute_result"
    }
   ],
   "source": [
    "array_1 = np.array((\n",
    "                    [1,2,3],\n",
    "                    [3,4,5],\n",
    "                    [6,7,8]\n",
    "\n",
    "                    ))\n",
    "array_1[0:2]"
   ]
  },
  {
   "cell_type": "code",
   "execution_count": 24,
   "id": "57e9cf6e",
   "metadata": {},
   "outputs": [
    {
     "data": {
      "text/plain": [
       "array([[1, 2, 3],\n",
       "       [3, 4, 5]])"
      ]
     },
     "execution_count": 24,
     "metadata": {},
     "output_type": "execute_result"
    }
   ],
   "source": [
    "array_1[:2,:3]"
   ]
  },
  {
   "cell_type": "code",
   "execution_count": 26,
   "id": "dd0710c6",
   "metadata": {},
   "outputs": [
    {
     "data": {
      "text/plain": [
       "39"
      ]
     },
     "execution_count": 26,
     "metadata": {},
     "output_type": "execute_result"
    }
   ],
   "source": [
    "array_1.sum()"
   ]
  },
  {
   "cell_type": "code",
   "execution_count": 27,
   "id": "9f25ee86",
   "metadata": {},
   "outputs": [
    {
     "data": {
      "text/plain": [
       "4.333333333333333"
      ]
     },
     "execution_count": 27,
     "metadata": {},
     "output_type": "execute_result"
    }
   ],
   "source": [
    "array_1.mean()"
   ]
  },
  {
   "cell_type": "code",
   "execution_count": 29,
   "id": "9e7012c3",
   "metadata": {},
   "outputs": [
    {
     "data": {
      "text/plain": [
       "4.888888888888889"
      ]
     },
     "execution_count": 29,
     "metadata": {},
     "output_type": "execute_result"
    }
   ],
   "source": [
    "array_1.var()#Variance of the matrices"
   ]
  },
  {
   "cell_type": "code",
   "execution_count": 30,
   "id": "a41e311c",
   "metadata": {},
   "outputs": [
    {
     "data": {
      "text/plain": [
       "2.211083193570267"
      ]
     },
     "execution_count": 30,
     "metadata": {},
     "output_type": "execute_result"
    }
   ],
   "source": [
    "array_1.std()  #Standard-deviation of the matrices"
   ]
  },
  {
   "cell_type": "markdown",
   "id": "d34e6124",
   "metadata": {},
   "source": [
    "<h2 style = \"color:white background-color:red\">  VECTOROIZATION AND BROADCASTING OPERATIONS</h2>"
   ]
  },
  {
   "cell_type": "code",
   "execution_count": 31,
   "id": "1248b286",
   "metadata": {},
   "outputs": [],
   "source": [
    "a = np.arange(4)"
   ]
  },
  {
   "cell_type": "code",
   "execution_count": 32,
   "id": "e350ec33",
   "metadata": {},
   "outputs": [
    {
     "name": "stdout",
     "output_type": "stream",
     "text": [
      "[0 1 2 3]\n"
     ]
    }
   ],
   "source": [
    "print(a)"
   ]
  },
  {
   "cell_type": "code",
   "execution_count": 33,
   "id": "f3bd7888",
   "metadata": {},
   "outputs": [
    {
     "data": {
      "text/plain": [
       "array([10, 11, 12, 13])"
      ]
     },
     "execution_count": 33,
     "metadata": {},
     "output_type": "execute_result"
    }
   ],
   "source": [
    "a+10"
   ]
  },
  {
   "cell_type": "code",
   "execution_count": 34,
   "id": "8596b0a2",
   "metadata": {},
   "outputs": [
    {
     "data": {
      "text/plain": [
       "array([0.30715193, 0.52705218])"
      ]
     },
     "execution_count": 34,
     "metadata": {},
     "output_type": "execute_result"
    }
   ],
   "source": [
    "np.random.random(size=2)"
   ]
  },
  {
   "cell_type": "code",
   "execution_count": 35,
   "id": "d39d9801",
   "metadata": {},
   "outputs": [
    {
     "data": {
      "text/plain": [
       "array([ 1.670787  ,  1.21012796, -0.23387351,  2.62196371])"
      ]
     },
     "execution_count": 35,
     "metadata": {},
     "output_type": "execute_result"
    }
   ],
   "source": [
    "np.random.normal(size= 4)"
   ]
  },
  {
   "cell_type": "markdown",
   "id": "c61f0607",
   "metadata": {},
   "source": [
    "<h4> Numpy Universal Function</h4>"
   ]
  },
  {
   "cell_type": "code",
   "execution_count": 38,
   "id": "38f71ee7",
   "metadata": {},
   "outputs": [
    {
     "data": {
      "text/plain": [
       "(3, 0, array([ 1.        ,  2.71828183,  7.3890561 , 20.08553692]))"
      ]
     },
     "execution_count": 38,
     "metadata": {},
     "output_type": "execute_result"
    }
   ],
   "source": [
    "np.max(a), np.min(a),np.exp(a)"
   ]
  },
  {
   "cell_type": "markdown",
   "id": "dd9c8af8",
   "metadata": {},
   "source": [
    "## PANDAS"
   ]
  },
  {
   "cell_type": "code",
   "execution_count": 39,
   "id": "ef5b4b7b",
   "metadata": {},
   "outputs": [],
   "source": [
    "import pandas as pd"
   ]
  },
  {
   "cell_type": "code",
   "execution_count": 40,
   "id": "956f1f22",
   "metadata": {},
   "outputs": [
    {
     "data": {
      "text/plain": [
       "0     35\n",
       "1     66\n",
       "2     22\n",
       "3     45\n",
       "4    211\n",
       "5    100\n",
       "dtype: int64"
      ]
     },
     "execution_count": 40,
     "metadata": {},
     "output_type": "execute_result"
    }
   ],
   "source": [
    "data = pd.Series([35,66,22,45,211,100])\n",
    "data"
   ]
  },
  {
   "cell_type": "code",
   "execution_count": 43,
   "id": "b2c85646",
   "metadata": {},
   "outputs": [
    {
     "data": {
      "text/plain": [
       "0     35\n",
       "1     66\n",
       "2     22\n",
       "3     45\n",
       "4    211\n",
       "5    100\n",
       "Name: Tutorial Starts, dtype: int64"
      ]
     },
     "execution_count": 43,
     "metadata": {},
     "output_type": "execute_result"
    }
   ],
   "source": [
    "data.name = \"Tutorial Starts\"\n",
    "data"
   ]
  },
  {
   "cell_type": "code",
   "execution_count": 44,
   "id": "20e6a92b",
   "metadata": {},
   "outputs": [],
   "source": [
    "data.index = [\"A\",\"B\",\"C\",\"D\",\"E\",\"F\"]"
   ]
  },
  {
   "cell_type": "code",
   "execution_count": 45,
   "id": "b3ae3a58",
   "metadata": {},
   "outputs": [
    {
     "data": {
      "text/plain": [
       "A     35\n",
       "B     66\n",
       "C     22\n",
       "D     45\n",
       "E    211\n",
       "F    100\n",
       "Name: Tutorial Starts, dtype: int64"
      ]
     },
     "execution_count": 45,
     "metadata": {},
     "output_type": "execute_result"
    }
   ],
   "source": [
    "data"
   ]
  },
  {
   "cell_type": "code",
   "execution_count": null,
   "id": "8117949d",
   "metadata": {},
   "outputs": [],
   "source": []
  }
 ],
 "metadata": {
  "kernelspec": {
   "display_name": "Python 3 (ipykernel)",
   "language": "python",
   "name": "python3"
  },
  "language_info": {
   "codemirror_mode": {
    "name": "ipython",
    "version": 3
   },
   "file_extension": ".py",
   "mimetype": "text/x-python",
   "name": "python",
   "nbconvert_exporter": "python",
   "pygments_lexer": "ipython3",
   "version": "3.10.11"
  }
 },
 "nbformat": 4,
 "nbformat_minor": 5
}
